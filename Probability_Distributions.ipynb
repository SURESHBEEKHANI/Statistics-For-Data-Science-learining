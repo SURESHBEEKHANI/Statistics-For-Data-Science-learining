{
  "nbformat": 4,
  "nbformat_minor": 0,
  "metadata": {
    "colab": {
      "private_outputs": true,
      "provenance": [],
      "toc_visible": true,
      "authorship_tag": "ABX9TyMvRYAhK8IdbQ5HBXB0NFnl",
      "include_colab_link": true
    },
    "kernelspec": {
      "name": "python3",
      "display_name": "Python 3"
    },
    "language_info": {
      "name": "python"
    }
  },
  "cells": [
    {
      "cell_type": "markdown",
      "metadata": {
        "id": "view-in-github",
        "colab_type": "text"
      },
      "source": [
        "<a href=\"https://colab.research.google.com/github/SURESHBEEKHANI/Statistics-For-Data-Science-learining/blob/main/Probability_Distributions.ipynb\" target=\"_parent\"><img src=\"https://colab.research.google.com/assets/colab-badge.svg\" alt=\"Open In Colab\"/></a>"
      ]
    },
    {
      "cell_type": "markdown",
      "source": [
        "## **Probability Distribution Functions**\n",
        "\n",
        "A Probability Distribution Function explains how probabilities are allocated to the potential outcomes of a random variable. The nature of the function varies based on whether the random variable is discrete or continuous:\n",
        "\n",
        "### **Types of Probability Distribution Functions**\n",
        "\n",
        "1. **Probability Density Function (PDF)**  \n",
        "   Used for continuous random variables.  \n",
        "\n",
        "2. **Probability Mass Function (PMF)**  \n",
        "   Applicable to discrete random variables.  \n"
      ],
      "metadata": {
        "id": "B5sfL9N3h3Aa"
      }
    },
    {
      "cell_type": "markdown",
      "source": [
        "### **Random Variables**\n",
        "\n",
        "A **random variable** is a numerical outcome of a random experiment or process. It can take different values, each with a specific probability. There are two types of random variables: discrete and continuous.\n",
        "\n",
        "#### **Examples of Random Variables**\n",
        "\n",
        "#### **Discrete Random Variables**\n",
        "- **Number of heads in 3 coin flips**: {0, 1, 2, 3}\n",
        "- **Number of customers arriving at a store in an hour**: {0, 1, 2, ...}\n",
        "- **Number of defects in a batch of products**: {0, 1, 2, ..., 100}\n",
        "- **Roll of a die**: {1, 2, 3, 4, 5, 6}\n",
        "\n",
        "#### **Continuous Random Variables**\n",
        "- **Height of a person**: Any real value (e.g., 150 cm, 180 cm)\n",
        "- **Time taken to run a marathon**: Any positive real value (e.g., 2.5 hours, 3.1 hours)\n",
        "- **Temperature in a city on a given day**: Any real value (e.g., 15.5°C, 25.8°C)\n",
        "- **Amount of rainfall in a month**: Any non-negative real value (e.g., 10.2 mm, 50.6 mm)\n"
      ],
      "metadata": {
        "id": "zQdBerXLkn1h"
      }
    },
    {
      "cell_type": "code",
      "source": [
        "import numpy as np\n",
        "import matplotlib.pyplot as plt\n",
        "from scipy.stats import norm\n",
        "\n",
        "# Parameters for the normal distribution\n",
        "mu = 0   # mean\n",
        "sigma = 1  # standard deviation\n",
        "x = np.linspace(-5, 5, 1000)  # range of values\n",
        "\n",
        "# Calculate the PDF\n",
        "pdf = norm.pdf(x, mu, sigma)\n",
        "\n",
        "# Plot the PDF\n",
        "plt.plot(x, pdf, label=f'Normal Distribution (mu={mu}, sigma={sigma})')\n",
        "plt.title('Normal Distribution PDF')\n",
        "plt.xlabel('x')\n",
        "plt.ylabel('Density')\n",
        "plt.legend()\n",
        "plt.show()\n"
      ],
      "metadata": {
        "id": "qYIDWargms3c"
      },
      "execution_count": null,
      "outputs": []
    },
    {
      "cell_type": "code",
      "source": [
        "import numpy as np\n",
        "import matplotlib.pyplot as plt\n",
        "from scipy.stats import binom\n",
        "\n",
        "# Parameters for the binomial distribution\n",
        "n = 10  # number of trials\n",
        "p = 0.5  # probability of success\n",
        "x = np.arange(0, n+1)  # possible outcomes (0 to n)\n",
        "\n",
        "# Calculate the PMF\n",
        "pmf = binom.pmf(x, n, p)\n",
        "\n",
        "# Plot the PMF\n",
        "plt.stem(x, pmf)\n",
        "plt.title(f'Binomial Distribution PMF (n={n}, p={p})')\n",
        "plt.xlabel('Number of Successes')\n",
        "plt.ylabel('Probability')\n",
        "plt.show()\n"
      ],
      "metadata": {
        "id": "m7sPWGejm2bz"
      },
      "execution_count": null,
      "outputs": []
    }
  ]
}