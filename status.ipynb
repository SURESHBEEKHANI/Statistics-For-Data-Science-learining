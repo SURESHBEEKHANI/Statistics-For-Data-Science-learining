{
  "cells": [
    {
      "cell_type": "markdown",
      "metadata": {
        "id": "view-in-github",
        "colab_type": "text"
      },
      "source": [
        "<a href=\"https://colab.research.google.com/github/SURESHBEEKHANI/Statistics-For-Data-Science-learining/blob/main/status.ipynb\" target=\"_parent\"><img src=\"https://colab.research.google.com/assets/colab-badge.svg\" alt=\"Open In Colab\"/></a>"
      ]
    },
    {
      "cell_type": "markdown",
      "source": [
        "#### **Introduction to Statistics**\n",
        "\n",
        "Statistics is a branch of mathematics that deals with collecting, analyzing, interpreting, and presenting data. It is widely used in various fields to make informed decisions based on data.\n"
      ],
      "metadata": {
        "id": "Ut1o-v0Mb81p"
      }
    },
    {
      "cell_type": "markdown",
      "source": [
        "### **Two Types of Statistics**\n",
        "\n",
        "Statistics can generally be divided into two main categories:\n",
        "\n",
        "### **1. Descriptive Statistics**\n",
        "\n",
        "Descriptive statistics involve methods for summarizing and organizing data. It describes the basic features of the data in a study. These statistics are used to present quantitative descriptions in a manageable form. The key elements of descriptive statistics include:\n",
        "\n",
        "\n",
        "- **Measures of Central Tendency**:\n",
        "  - Mean (average)\n",
        "  - Median (middle value)\n",
        "  - Mode (most frequent value)\n",
        "  \n",
        "- **Measures of Dispersion**:\n",
        "  - Range (difference between the highest and lowest values)\n",
        "  - Variance (average squared deviation from the mean)\n",
        "  - Standard deviation (square root of the variance)\n",
        "\n",
        "- **Frequency Distributions**: Organizing data into tables or graphs to show the number of occurrences of different values.\n",
        "\n",
        "- **Graphs**:\n",
        "  - Histograms\n",
        "  - Bar charts\n",
        "  - Pie charts\n",
        "  - Box plots\n",
        "\n",
        "## 2. Inferential Statistics\n",
        "\n",
        "Inferential statistics involves drawing conclusions or making inferences about a population based on sample data. It uses probability theory to make predictions or generalizations. Key techniques in inferential statistics include:\n",
        "\n",
        "- **Hypothesis Testing**: Testing assumptions about a population based on sample data.\n",
        "  \n",
        "- **Confidence Intervals**: Estimating a range within which a population parameter is likely to fall.\n",
        "\n",
        "- **Regression Analysis**: Analyzing the relationship between dependent and independent variables.\n",
        "\n",
        "- **Analysis of Variance (ANOVA)**: Comparing means across multiple groups to see if there are significant differences.\n",
        "\n",
        "- **Sampling**: Using a sample to infer conclusions about a larger population.\n",
        "\n",
        "\n",
        "In summary, descriptive statistics are used to summarize and describe data, while inferential statistics go beyond the data to make predictions or test hypotheses.\n"
      ],
      "metadata": {
        "id": "IO01e9kFcuF3"
      }
    },
    {
      "cell_type": "code",
      "source": [
        "import numpy as np\n",
        "import pandas as pd\n",
        "import matplotlib.pyplot as plt\n",
        "import seaborn as sns\n"
      ],
      "metadata": {
        "id": "o0TWYwbjatVr"
      },
      "execution_count": 19,
      "outputs": []
    },
    {
      "cell_type": "markdown",
      "source": [
        "### **Measures Central Tendency of Data : Mean, Median, Mode**\n",
        "\n",
        "In this notebook, we will calculate the mean, median, and mode of a sample dataset using Python libraries `numpy` and `scipy.stats`.\n"
      ],
      "metadata": {
        "id": "S37T04QIXXxC"
      }
    },
    {
      "cell_type": "code",
      "source": [
        "import numpy as np\n",
        "from scipy import stats\n",
        "\n",
        "# Sample dataset\n",
        "data = [2, 4, 6, 8, 10, 10,100, 12]\n",
        "\n",
        "# Calculate the mean (average)\n",
        "mean = np.mean(data)\n",
        "\n",
        "# Calculate the median (middle value)\n",
        "median = np.median(data)\n",
        "\n",
        "# Calculate the mode (most frequent value)\n",
        "mode_result = stats.mode(data)\n",
        "\n",
        "# Output the results\n",
        "print(f\"Mean: {mean}\")\n",
        "print(f\"Median: {median}\")\n",
        "print(f\"Mode: {mode_result}\")\n"
      ],
      "metadata": {
        "colab": {
          "base_uri": "https://localhost:8080/"
        },
        "id": "y_8lxjWAVTiI",
        "outputId": "e020b81a-d349-4b94-9541-c15fd1bc119a"
      },
      "execution_count": 24,
      "outputs": [
        {
          "output_type": "stream",
          "name": "stdout",
          "text": [
            "Mean: 19.0\n",
            "Median: 9.0\n",
            "Mode: ModeResult(mode=10, count=2)\n"
          ]
        }
      ]
    },
    {
      "cell_type": "markdown",
      "source": [
        "#### **Measure of Dispersion: Variance and Standard Deviation using NumPy**\n"
      ],
      "metadata": {
        "id": "F9m9f9zkZApO"
      }
    },
    {
      "cell_type": "code",
      "execution_count": 21,
      "metadata": {
        "colab": {
          "base_uri": "https://localhost:8080/"
        },
        "id": "lIYdn1woOS1n",
        "outputId": "8dc0eab8-1565-4248-ca3c-0d2b4a4e7e17"
      },
      "outputs": [
        {
          "output_type": "stream",
          "name": "stdout",
          "text": [
            "Variance: 8.0\n",
            "Standard Deviation: 2.8284271247461903\n"
          ]
        }
      ],
      "source": [
        "import numpy as np\n",
        "\n",
        "# Sample dataset\n",
        "data = [2, 4, 6, 8, 10]\n",
        "\n",
        "# Calculate the variance (population variance by default)\n",
        "variance = np.var(data)\n",
        "\n",
        "# Calculate the standard deviation (population standard deviation by default)\n",
        "std_deviation = np.std(data)\n",
        "\n",
        "# Output the results\n",
        "print(f\"Variance: {variance}\")\n",
        "print(f\"Standard Deviation: {std_deviation}\")\n"
      ]
    },
    {
      "cell_type": "code",
      "source": [
        "# Plotting a histogram of the data\n",
        "plt.figure(figsize=(10, 6))\n",
        "sns.histplot(data, kde=True, color='blue', bins=10)\n",
        "plt.title('Histogram of Data')\n",
        "plt.xlabel('Value')\n",
        "plt.ylabel('Frequency')\n",
        "plt.show()\n"
      ],
      "metadata": {
        "colab": {
          "base_uri": "https://localhost:8080/",
          "height": 564
        },
        "id": "CfiU4m3Fanjy",
        "outputId": "ca65a1d7-17bb-4386-af72-67dd32eb0ab1"
      },
      "execution_count": 25,
      "outputs": [
        {
          "output_type": "display_data",
          "data": {
            "text/plain": [
              "<Figure size 1000x600 with 1 Axes>"
            ],
            "image/png": "[encoded data removed]"
          },
          "metadata": {}
        }
      ]
    }
  ],
  "metadata": {
    "colab": {
      "name": "scratchpad",
      "provenance": [],
      "include_colab_link": true
    },
    "kernelspec": {
      "display_name": "Python 3",
      "name": "python3"
    }
  },
  "nbformat": 4,
  "nbformat_minor": 0
}