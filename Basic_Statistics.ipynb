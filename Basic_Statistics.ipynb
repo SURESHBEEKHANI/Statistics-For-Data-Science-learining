{
  "cells": [
    {
      "cell_type": "markdown",
      "metadata": {
        "id": "view-in-github",
        "colab_type": "text"
      },
      "source": [
        "<a href=\"https://colab.research.google.com/github/SURESHBEEKHANI/Statistics-For-Data-Science-learining/blob/main/Basic_Statistics.ipynb\" target=\"_parent\"><img src=\"https://colab.research.google.com/assets/colab-badge.svg\" alt=\"Open In Colab\"/></a>"
      ]
    },
    {
      "cell_type": "markdown",
      "source": [
        "## **Introduction to Statistics**\n",
        "\n",
        "Statistics is a branch of mathematics that deals with collecting, analyzing, interpreting, and presenting data. It is widely used in various fields to make informed decisions based on data.\n"
      ],
      "metadata": {
        "id": "IO01e9kFcuF3"
      }
    },
    {
      "cell_type": "markdown",
      "source": [
        "\n",
        "## **Two Types of Statistics**\n",
        "\n",
        "Statistics can generally be divided into two main categories:\n",
        "\n",
        "Descriptive Statistics\n",
        "\n",
        "Inferential Statistics"
      ],
      "metadata": {
        "id": "BS0kCZ2FSH6V"
      }
    },
    {
      "cell_type": "markdown",
      "source": [
        "## **1. Descriptive Statistics**\n",
        "\n",
        "Descriptive statistics involve methods for summarizing and organizing data. It describes the basic features of the data in a study. These statistics are used to present quantitative descriptions in a manageable form. The key elements of descriptive statistics include:\n",
        "\n",
        "\n",
        "- **Measures of Central Tendency**:\n",
        "  - Mean (average)\n",
        "  - Median (middle value)\n",
        "  - Mode (most frequent value)\n",
        "  \n",
        "- **Measures of Dispersion**:\n",
        "  - Range (difference between the highest and lowest values)\n",
        "  - Variance (average squared deviation from the mean)\n",
        "  - Standard deviation (square root of the variance)\n",
        "\n",
        "- **Frequency Distributions**: Organizing data into tables or graphs to show the number of occurrences of different values.\n",
        "\n",
        "- **Graphs**:\n",
        "  - Histograms\n",
        "  - Bar charts\n",
        "  - Pie charts\n",
        "  - Box plots"
      ],
      "metadata": {
        "id": "JB9OOj_cRqiH"
      }
    },
    {
      "cell_type": "markdown",
      "source": [
        "## **2. Inferential Statistics**\n",
        "\n",
        "Inferential statistics involves drawing conclusions or making inferences about a population based on sample data. It uses probability theory to make predictions or generalizations. Key techniques in inferential statistics include:\n",
        "\n",
        "- **Hypothesis Testing**: Testing assumptions about a population based on sample data.\n",
        "  \n",
        "- **Confidence Intervals**: Estimating a range within which a population parameter is likely to fall.\n",
        "\n",
        "- **Regression Analysis**: Analyzing the relationship between dependent and independent variables.\n",
        "\n",
        "- **Analysis of Variance (ANOVA)**: Comparing means across multiple groups to see if there are significant differences.\n",
        "\n",
        "- **Sampling**: Using a sample to infer conclusions about a larger population.\n",
        "\n",
        "\n",
        "In summary, descriptive statistics are used to summarize and describe data, while inferential statistics go beyond the data to make predictions or test hypotheses.\n"
      ],
      "metadata": {
        "id": "9BFHcBVZRSBG"
      }
    },
    {
      "cell_type": "markdown",
      "source": [
        "### **Sampling techniques**\n",
        "\n",
        "Sampling is a fundamental process in research and data collection, where a subset of individuals or observations (called a **sample**) is selected from a larger group or population. The goal of sampling is to gather data that can represent the whole population, allowing researchers to draw conclusions, make inferences, or generalize findings without studying every individual.\n",
        "\n",
        "---\n",
        "\n",
        " **Why Use Sampling?**\n",
        "1. **Cost-Effectiveness**: Studying the entire population can be expensive; sampling reduces costs.\n",
        "2. **Time Efficiency**: Collecting and analyzing data from a sample takes less time than from the whole population.\n",
        "3. **Feasibility**: Accessing every member of a population may not be possible (e.g., populations that are dispersed or hidden).\n",
        "4. **Accuracy and Manageability**: Smaller, well-chosen samples allow for precise and focused studies, reducing errors from overwhelming data sizes.\n",
        "\n",
        "---\n",
        "\n",
        " **Key Concepts in Sampling**\n",
        "- **Population**: The entire group you want to study or make conclusions about (e.g., all voters in a country).\n",
        "- **Sample**: A subset of the population selected for the study.\n",
        "- **Sampling Frame**: A list or database containing all members of the population from which the sample is drawn.\n",
        "- **Sampling Error**: The difference between the characteristics of the sample and the actual population due to sampling.\n",
        "\n",
        "---\n",
        "\n",
        " **Types of Sampling**\n",
        "\n",
        " 1. **Probability Sampling**\n",
        "- Every individual has a known, non-zero chance of being selected.\n",
        "- **Examples**:\n",
        "  - Simple random sampling\n",
        "  - Systematic sampling\n",
        "  - Stratified sampling\n",
        "  - Cluster sampling\n",
        "- **Advantages**: Results are more representative and can be generalized to the population.\n",
        "\n",
        "### 2. **Non-Probability Sampling**\n",
        "- Selection is based on non-random criteria, often relying on the researcher’s judgment or convenience.\n",
        "- **Examples**:\n",
        "  - Convenience sampling\n",
        "  - Judgment sampling\n",
        "  - Quota sampling\n",
        "  - Snowball sampling\n",
        "- **Advantages**: Faster and easier, especially for exploratory or preliminary research.\n",
        "\n",
        "---\n",
        "\n",
        " **Importance of Sampling**\n",
        "- **Generalization**: Enables conclusions about a population from a manageable group.\n",
        "- **Practicality**: Reduces the logistical and financial constraints of studying an entire population.\n",
        "- **Insightful Data**: When done correctly, provides accurate and reliable data for decision-making.\n",
        "\n",
        "---\n",
        "\n",
        "By understanding sampling techniques and their appropriate applications, researchers can ensure the reliability and validity of their findings.\n",
        "\n"
      ],
      "metadata": {
        "id": "toetBai3AyaO"
      }
    },
    {
      "cell_type": "markdown",
      "source": [
        "### **1. Simple Random Sampling**\n",
        "This method selects elements randomly from a population."
      ],
      "metadata": {
        "id": "n4vqRJeHHbAr"
      }
    },
    {
      "cell_type": "code",
      "source": [
        "import random  # Importing the random module to use its random sampling functions\n",
        "\n",
        "# Define the population\n",
        "# Creating a list of integers from 1 to 100 to represent the population.\n",
        "population = list(range(1, 101))  # Population of integers 1 to 100\n",
        "\n",
        "# Define the sample size\n",
        "# Setting the number of samples we want to randomly select.\n",
        "sample_size = 10  # Specify the sample size\n",
        "\n",
        "# Generate a random sample\n",
        "# Using the `random.sample` function to select 'sample_size' unique elements from the population.\n",
        "# This ensures that each element has an equal chance of being selected.\n",
        "simple_random_sample = random.sample(population, sample_size)\n",
        "\n",
        "# Print the generated sample\n",
        "# Displaying the randomly selected elements from the population.\n",
        "print(\"Simple Random Sample:\", simple_random_sample)\n"
      ],
      "metadata": {
        "colab": {
          "base_uri": "https://localhost:8080/"
        },
        "id": "P05BpUKkHKG9",
        "outputId": "7792a707-d754-450d-9d8a-944acf2e95db"
      },
      "execution_count": 7,
      "outputs": [
        {
          "output_type": "stream",
          "name": "stdout",
          "text": [
            "Simple Random Sample: [59, 63, 41, 50, 34, 35, 43, 74, 6, 97]\n"
          ]
        }
      ]
    },
    {
      "cell_type": "markdown",
      "source": [
        "### **2. Systematic Sampling**\n",
        "This method selects every k th element from the population."
      ],
      "metadata": {
        "id": "ggnCJibzHubi"
      }
    },
    {
      "cell_type": "code",
      "source": [
        "# Define the population\n",
        "# Creating a list of integers from 1 to 100 to represent the population.\n",
        "population = list(range(1, 101))  # Population of integers 1 to 100\n",
        "\n",
        "# Define the sample size\n",
        "# Setting the desired number of samples to 20.\n",
        "sample_size = 20\n",
        "\n",
        "# Calculate the sampling interval\n",
        "# Dividing the population size by the sample size to determine the interval (k).\n",
        "# This means we will pick every k-th element.\n",
        "k = len(population) // sample_size  # Sampling interval\n",
        "\n",
        "# Generate a systematic sample\n",
        "# Using a list comprehension to select every k-th element from the population.\n",
        "# Starting at index 0 and advancing by k to collect elements.\n",
        "systematic_sample = [population[i] for i in range(0, len(population), k)]\n",
        "\n",
        "# Print the first 'sample_size' elements of the systematic sample\n",
        "# Ensuring that we only display the requested number of elements from the systematic sample.\n",
        "print(\"Systematic Sample:\", systematic_sample[:sample_size])\n"
      ],
      "metadata": {
        "colab": {
          "base_uri": "https://localhost:8080/"
        },
        "id": "hAeuKbpAHqn7",
        "outputId": "01106a6f-adbc-430d-d697-a1d87e454266"
      },
      "execution_count": 8,
      "outputs": [
        {
          "output_type": "stream",
          "name": "stdout",
          "text": [
            "Systematic Sample: [1, 6, 11, 16, 21, 26, 31, 36, 41, 46, 51, 56, 61, 66, 71, 76, 81, 86, 91, 96]\n"
          ]
        }
      ]
    },
    {
      "cell_type": "markdown",
      "source": [
        "### **3. Stratified Sampling**\n",
        "This method divides the population into strata and samples from each.\n"
      ],
      "metadata": {
        "id": "5x-eQuS5Jf-i"
      }
    },
    {
      "cell_type": "code",
      "source": [
        "import random  # This imports a tool that helps us pick random items.\n",
        "\n",
        "# Define the population (grouped by strata)\n",
        "# Imagine we have two groups of people: Group A and Group B.\n",
        "# Group A has numbers from 1 to 50, and Group B has numbers from 51 to 100.\n",
        "population = {'Group A': list(range(1, 51)), 'Group B': list(range(51, 101))}\n",
        "\n",
        "# Define the sample size per stratum\n",
        "# We want to pick 5 random numbers from each group (A and B).\n",
        "sample_size_per_stratum = 5\n",
        "\n",
        "# Generate a stratified sample\n",
        "# For each group (A and B), we randomly pick 5 numbers.\n",
        "# This creates a smaller set that still represents each group.\n",
        "stratified_sample = {\n",
        "    stratum: random.sample(population[stratum], sample_size_per_stratum)  # Pick 5 random numbers from the group\n",
        "    for stratum in population  # Go through each group one by one\n",
        "}\n",
        "\n",
        "# Print the result\n",
        "# Show the selected numbers from both groups (A and B).\n",
        "print(\"Stratified Sample:\", stratified_sample)\n"
      ],
      "metadata": {
        "colab": {
          "base_uri": "https://localhost:8080/"
        },
        "id": "ED5eiFbjJknh",
        "outputId": "938bc1cb-12b3-46b1-d35f-7d505beeb653"
      },
      "execution_count": 10,
      "outputs": [
        {
          "output_type": "stream",
          "name": "stdout",
          "text": [
            "Stratified Sample: {'Group A': [23, 28, 46, 16, 20], 'Group B': [58, 80, 70, 66, 92]}\n"
          ]
        }
      ]
    },
    {
      "cell_type": "markdown",
      "source": [
        "### **4. Cluster Sampling**\n",
        "\n",
        "This method selects entire clusters (subgroups) randomly."
      ],
      "metadata": {
        "id": "kwA_jQ6PKOzq"
      }
    },
    {
      "cell_type": "code",
      "source": [
        "import random  # This imports a tool that lets us pick random items or groups.\n",
        "\n",
        "# Define the population divided into clusters\n",
        "# We divide the population into smaller groups called clusters.\n",
        "# Each cluster contains numbers in a specific range:\n",
        "clusters = [\n",
        "    list(range(1, 21)),  # Cluster 1: Numbers from 1 to 20\n",
        "    list(range(21, 41)),  # Cluster 2: Numbers from 21 to 40\n",
        "    list(range(41, 61)),  # Cluster 3: Numbers from 41 to 60\n",
        "    list(range(61, 81)),  # Cluster 4: Numbers from 61 to 80\n",
        "    list(range(81, 101))  # Cluster 5: Numbers from 81 to 100\n",
        "]\n",
        "\n",
        "# Randomly select clusters\n",
        "# We randomly pick 2 of the clusters to work with.\n",
        "selected_clusters = random.sample(clusters, 2)  # Choose 2 random groups\n",
        "\n",
        "# Combine selected clusters into a sample\n",
        "# After picking the clusters, we combine all the numbers in those clusters into one list.\n",
        "# This gives us the final sample to work with.\n",
        "cluster_sample = [item for cluster in selected_clusters for item in cluster]\n",
        "\n",
        "# Print the result\n",
        "# Show all the numbers selected from the chosen clusters.\n",
        "print(\"Cluster Sample:\", cluster_sample)\n"
      ],
      "metadata": {
        "colab": {
          "base_uri": "https://localhost:8080/"
        },
        "id": "eL5-Ss56KUKo",
        "outputId": "41954a08-5130-4588-b43b-f347179cf13e"
      },
      "execution_count": 11,
      "outputs": [
        {
          "output_type": "stream",
          "name": "stdout",
          "text": [
            "Cluster Sample: [1, 2, 3, 4, 5, 6, 7, 8, 9, 10, 11, 12, 13, 14, 15, 16, 17, 18, 19, 20, 41, 42, 43, 44, 45, 46, 47, 48, 49, 50, 51, 52, 53, 54, 55, 56, 57, 58, 59, 60]\n"
          ]
        }
      ]
    },
    {
      "cell_type": "markdown",
      "source": [
        "\n",
        "### **5. Convenience Sampling**\n",
        "This method selects the most easily accessible elements."
      ],
      "metadata": {
        "id": "1hEpClptKyzA"
      }
    },
    {
      "cell_type": "code",
      "source": [
        "# Define the population\n",
        "# This creates a list of numbers from 1 to 100. Imagine this as a group of 100 people or items.\n",
        "population = list(range(1, 101))  # Create a population of numbers from 1 to 100.\n",
        "\n",
        "# Simulate a convenience sample\n",
        "# Convenience sampling means selecting a group of people or items that are easiest to access.\n",
        "\n",
        "# Take the first 10 numbers from the population (1 to 10)\n",
        "convenience_sample1 = population[:10]  # Take the first 10 numbers (1 to 10).\n",
        "\n",
        "# Take everything except the last 10 numbers (1 to 90)\n",
        "convenience_sample2 = population[:-10]  # Take everything except the last 10 numbers (1 to 90).\n",
        "\n",
        "# Take only the last 10 numbers (91 to 100)\n",
        "convenience_sample3 = population[-10:]  # Take the last 10 numbers (91 to 100).\n",
        "\n",
        "# Take everything except the first 10 numbers (11 to 100)\n",
        "convenience_sample4 = population[10:]  # Take everything except the first 10 numbers (11 to 100).\n",
        "\n",
        "# Print the results of the convenience samples\n",
        "# Showing the output of each sample type, explaining what it represents.\n",
        "\n",
        "print(\"Convenience Sample (First 10):\", convenience_sample1)  # Prints the first 10 elements (1 to 10)\n",
        "print(\"Convenience Sample (Excluding Last 10):\", convenience_sample2)  # Prints everything except the last 10 elements (1 to 90)\n",
        "print(\"Convenience Sample (Excluding First 10):\", convenience_sample3)  # Prints the last 10 elements (91 to 100)\n",
        "print(\"Convenience Sample (Excluding First 10):\", convenience_sample4)  # Prints everything except the first 10 elements (11 to 100)\n"
      ],
      "metadata": {
        "colab": {
          "base_uri": "https://localhost:8080/"
        },
        "id": "ggMa4L4MK-Pw",
        "outputId": "53d8df3f-01cb-4b83-cc6a-e5e4956540ac"
      },
      "execution_count": 21,
      "outputs": [
        {
          "output_type": "stream",
          "name": "stdout",
          "text": [
            "Convenience Sample (First 10): [1, 2, 3, 4, 5, 6, 7, 8, 9, 10]\n",
            "Convenience Sample (Excluding Last 10): [1, 2, 3, 4, 5, 6, 7, 8, 9, 10, 11, 12, 13, 14, 15, 16, 17, 18, 19, 20, 21, 22, 23, 24, 25, 26, 27, 28, 29, 30, 31, 32, 33, 34, 35, 36, 37, 38, 39, 40, 41, 42, 43, 44, 45, 46, 47, 48, 49, 50, 51, 52, 53, 54, 55, 56, 57, 58, 59, 60, 61, 62, 63, 64, 65, 66, 67, 68, 69, 70, 71, 72, 73, 74, 75, 76, 77, 78, 79, 80, 81, 82, 83, 84, 85, 86, 87, 88, 89, 90]\n",
            "Convenience Sample (Excluding First 10): [91, 92, 93, 94, 95, 96, 97, 98, 99, 100]\n",
            "Convenience Sample (Excluding First 10): [11, 12, 13, 14, 15, 16, 17, 18, 19, 20, 21, 22, 23, 24, 25, 26, 27, 28, 29, 30, 31, 32, 33, 34, 35, 36, 37, 38, 39, 40, 41, 42, 43, 44, 45, 46, 47, 48, 49, 50, 51, 52, 53, 54, 55, 56, 57, 58, 59, 60, 61, 62, 63, 64, 65, 66, 67, 68, 69, 70, 71, 72, 73, 74, 75, 76, 77, 78, 79, 80, 81, 82, 83, 84, 85, 86, 87, 88, 89, 90, 91, 92, 93, 94, 95, 96, 97, 98, 99, 100]\n"
          ]
        }
      ]
    },
    {
      "cell_type": "markdown",
      "source": [
        "### **6. Consecutive Sampling**\n",
        "This method selects consecutive elements meeting certain criteria."
      ],
      "metadata": {
        "id": "0BMVuoM6M6oc"
      }
    },
    {
      "cell_type": "code",
      "source": [
        "# Define the population\n",
        "population = list(range(1, 101))  # Population of integers 1 to 100\n",
        "\n",
        "# Define the sample size\n",
        "sample_size1 = 10\n",
        "sample_size2=30\n",
        "\n",
        "# Select consecutive elements\n",
        "consecutive_sample1 = population[:sample_size1]\n",
        "consecutive_sample2 = population[:sample_size2]\n",
        "\n",
        "print(\"Consecutive Sample:\", consecutive_sample1)\n",
        "\n",
        "print(\"Consecutive Sample:\", consecutive_sample2)\n"
      ],
      "metadata": {
        "colab": {
          "base_uri": "https://localhost:8080/"
        },
        "id": "IwS5-xMAM1kd",
        "outputId": "444f18bb-913c-4ab4-9c75-c121d5360f23"
      },
      "execution_count": 26,
      "outputs": [
        {
          "output_type": "stream",
          "name": "stdout",
          "text": [
            "Consecutive Sample: [1, 2, 3, 4, 5, 6, 7, 8, 9, 10]\n",
            "Consecutive Sample: [1, 2, 3, 4, 5, 6, 7, 8, 9, 10, 11, 12, 13, 14, 15, 16, 17, 18, 19, 20, 21, 22, 23, 24, 25, 26, 27, 28, 29, 30]\n"
          ]
        }
      ]
    },
    {
      "cell_type": "markdown",
      "source": [
        "### **7. Quota Sampling**\n",
        "This method selects elements to fulfill specific quotas."
      ],
      "metadata": {
        "id": "P7-Sr1owN72s"
      }
    },
    {
      "cell_type": "code",
      "source": [
        "import random  # Import the random module to allow random selection of items from the groups.\n",
        "\n",
        "# Define the population grouped by categories\n",
        "# Here, the population is divided into two groups: 'Male' and 'Female'.\n",
        "# 'Male' group contains numbers from 1 to 50, and 'Female' group contains numbers from 51 to 100.\n",
        "population = {'Male': list(range(1, 51)), 'Female': list(range(51, 101))}\n",
        "\n",
        "# Define quotas\n",
        "# We want to select 5 samples from each group ('Male' and 'Female').\n",
        "quota = {'Male': 5, 'Female': 5}\n",
        "\n",
        "# Generate a quota sample\n",
        "# For each group ('Male' and 'Female'), we randomly pick the number of samples defined by the quota (5 in each group).\n",
        "# `random.sample()` is used to randomly select 5 items from each group.\n",
        "quota_sample = {\n",
        "    group: random.sample(population[group], quota[group])  # Pick 5 random numbers from each group\n",
        "    for group in quota  # Go through each group ('Male' and 'Female')\n",
        "}\n",
        "\n",
        "# Print the result of the quota sample\n",
        "# This will display the 5 random numbers selected from the 'Male' and 'Female' groups.\n",
        "print(\"Quota Sample:\", quota_sample)\n"
      ],
      "metadata": {
        "colab": {
          "base_uri": "https://localhost:8080/"
        },
        "id": "jxK27T03Ob47",
        "outputId": "4df53d1b-c2d9-4daf-fa93-a72b69603f69"
      },
      "execution_count": 29,
      "outputs": [
        {
          "output_type": "stream",
          "name": "stdout",
          "text": [
            "Quota Sample: {'Male': [44, 40, 16, 41, 50], 'Female': [96, 58, 54, 67, 97]}\n"
          ]
        }
      ]
    },
    {
      "cell_type": "markdown",
      "source": [
        "### **8. Judgment Sampling**\n",
        "This method relies on the researcher’s judgment to select the sample."
      ],
      "metadata": {
        "id": "AEJN7oE8O0CE"
      }
    },
    {
      "cell_type": "code",
      "source": [
        "# Define the population\n",
        "# The population is a list of numbers from 1 to 100, representing a group of 100 items or people.\n",
        "population = list(range(1, 101))  # Population of integers 1 to 100\n",
        "\n",
        "# Use researcher judgment to select specific elements\n",
        "# In judgment sampling, the researcher selects specific elements based on their own knowledge or criteria.\n",
        "# Here, we manually choose the numbers 2, 4, 6, 8, and 10 as the sample.\n",
        "judgment_sample = [2, 4, 6, 8, 10]  # Arbitrary selection of 5 numbers.\n",
        "\n",
        "# Print the result of the judgment sample\n",
        "# This will display the sample selected based on the researcher's judgment.\n",
        "print(\"Judgment Sample:\", judgment_sample)\n"
      ],
      "metadata": {
        "colab": {
          "base_uri": "https://localhost:8080/"
        },
        "id": "WWosmVKHO3eL",
        "outputId": "5b19c517-46b0-41ee-d858-5a9af02e8862"
      },
      "execution_count": 32,
      "outputs": [
        {
          "output_type": "stream",
          "name": "stdout",
          "text": [
            "Judgment Sample: [2, 4, 6, 8, 10]\n"
          ]
        }
      ]
    },
    {
      "cell_type": "markdown",
      "source": [
        "### **9. Snowball Sampling**\n",
        "This method involves participants recruiting others into the sample."
      ],
      "metadata": {
        "id": "EOaTt13HPSxi"
      }
    },
    {
      "cell_type": "code",
      "source": [
        "# Initial participants\n",
        "# We start with one initial participant (represented by the number 1).\n",
        "initial_sample = [1]\n",
        "\n",
        "# Simulate snowball effect\n",
        "# In snowball sampling, we begin with a small group and recruit new participants through referrals from the existing ones.\n",
        "# The process continues in waves where each new participant can refer others.\n",
        "\n",
        "snowball_sample = initial_sample  # Begin with the initial sample containing the first participant.\n",
        "for _ in range(90):  # Repeat the process 4 more times (so we have 5 waves in total).\n",
        "    # Generate the next participants by taking the last participant in the list and adding 1 to create a new participant.\n",
        "    next_participants = [x + 1 for x in snowball_sample[-1:]]  # Add 1 to the last participant's number to create the new participant.\n",
        "\n",
        "    # Add the new participants to the snowball sample.\n",
        "    snowball_sample.extend(next_participants)\n",
        "\n",
        "# Print the result of the snowball sample\n",
        "# Display the participants recruited through the snowball effect after 5 waves.\n",
        "print(\"Snowball Sample:\", snowball_sample)\n"
      ],
      "metadata": {
        "colab": {
          "base_uri": "https://localhost:8080/"
        },
        "id": "SoLxIvDQPZ05",
        "outputId": "18bbdfb0-a7e2-41e7-f11e-ef0c4859db67"
      },
      "execution_count": 37,
      "outputs": [
        {
          "output_type": "stream",
          "name": "stdout",
          "text": [
            "Snowball Sample: [1, 2, 3, 4, 5, 6, 7, 8, 9, 10, 11, 12, 13, 14, 15, 16, 17, 18, 19, 20, 21, 22, 23, 24, 25, 26, 27, 28, 29, 30, 31, 32, 33, 34, 35, 36, 37, 38, 39, 40, 41, 42, 43, 44, 45, 46, 47, 48, 49, 50, 51, 52, 53, 54, 55, 56, 57, 58, 59, 60, 61, 62, 63, 64, 65, 66, 67, 68, 69, 70, 71, 72, 73, 74, 75, 76, 77, 78, 79, 80, 81, 82, 83, 84, 85, 86, 87, 88, 89, 90, 91]\n"
          ]
        }
      ]
    },
    {
      "cell_type": "code",
      "source": [],
      "metadata": {
        "id": "TnF6KP58QIOB"
      },
      "execution_count": null,
      "outputs": []
    }
  ],
  "metadata": {
    "colab": {
      "name": "scratchpad",
      "provenance": [],
      "gpuType": "T4",
      "include_colab_link": true
    },
    "kernelspec": {
      "display_name": "Python 3",
      "name": "python3"
    },
    "accelerator": "GPU"
  },
  "nbformat": 4,
  "nbformat_minor": 0
}