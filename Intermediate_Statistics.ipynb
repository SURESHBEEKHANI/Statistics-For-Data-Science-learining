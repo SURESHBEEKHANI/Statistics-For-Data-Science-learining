{
  "cells": [
    {
      "cell_type": "markdown",
      "metadata": {
        "id": "view-in-github",
        "colab_type": "text"
      },
      "source": [
        "<a href=\"https://colab.research.google.com/github/SURESHBEEKHANI/Statistics-For-Data-Science-learining/blob/main/Intermediate_Statistics.ipynb\" target=\"_parent\"><img src=\"https://colab.research.google.com/assets/colab-badge.svg\" alt=\"Open In Colab\"/></a>"
      ]
    },
    {
      "cell_type": "markdown",
      "source": [
        "### **Intermediate Statistics**\n",
        "\n",
        "This notebook covers some key concepts in intermediate statistics, including measures of central tendency, measures of dispersion, skewness, Z-scores, and standardization/normalization."
      ],
      "metadata": {
        "id": "OmmseEoqeu49"
      }
    },
    {
      "cell_type": "markdown",
      "source": [
        "### **1. Measures of Central Tendency**\n",
        "\n",
        "Measures of central tendency summarize a dataset by identifying a central or typical value.\n",
        "\n",
        "- **Mean**: Represents the average value of the data points. It is calculated by summing all the values and dividing by the total number of observations.\n",
        "\n",
        "- **Median**: Refers to the middle value in a dataset when the data points are arranged in ascending or descending order. For an even number of observations, it is the average of the two middle values.\n",
        "\n",
        "- **Mode**: Indicates the most frequently occurring value(s) in the dataset. A dataset may have one mode (unimodal), more than one mode (multimodal), or no mode if all values occur with the same frequency.\n"
      ],
      "metadata": {
        "id": "jIBsWjBxigJs"
      }
    },
    {
      "cell_type": "code",
      "source": [
        "# Import the NumPy library for numerical operations, aliasing it as 'np'\n",
        "import numpy as np\n",
        "\n",
        "# Import the 'stats' module from the SciPy library for statistical functions\n",
        "from scipy import stats\n",
        "\n",
        "# Define a sample dataset as a list of integers\n",
        "data = [2, 4, 6, 8, 10, 10, 12]\n",
        "\n",
        "# Calculate the mean (average) of the dataset using NumPy's mean function\n",
        "mean = np.mean(data)\n",
        "\n",
        "# Calculate the median (middle value) of the dataset using NumPy's median function\n",
        "median = np.median(data)\n",
        "\n",
        "# Calculate the mode (most frequent value) of the dataset using SciPy's stats.mode function\n",
        "# The result is stored in a structured object that contains the mode value and its count\n",
        "mode_result = stats.mode(data)\n",
        "\n",
        "# Print the calculated mean value in a formatted string\n",
        "print(f\"Mean: {mean}\")\n",
        "\n",
        "# Print the calculated median value in a formatted string\n",
        "print(f\"Median: {median}\")\n",
        "\n",
        "# Print the mode result (both the mode value and its frequency) in a formatted string\n",
        "print(f\"Mode: {mode_result}\")\n"
      ],
      "metadata": {
        "id": "c-MXPoI8kEjy",
        "outputId": "af24bcc5-cfd1-441a-f152-bd2417580323",
        "colab": {
          "base_uri": "https://localhost:8080/"
        }
      },
      "execution_count": 5,
      "outputs": [
        {
          "output_type": "stream",
          "name": "stdout",
          "text": [
            "Mean: 7.428571428571429\n",
            "Median: 8.0\n",
            "Mode: ModeResult(mode=10, count=2)\n"
          ]
        }
      ]
    },
    {
      "cell_type": "markdown",
      "source": [
        "### **2. Measures of Dispersion**\n",
        "\n",
        "Dispersion quantifies the spread or variability of a dataset.\n",
        "\n",
        "- **Range**: The difference between the maximum and minimum values in the dataset.  \n",
        "\n",
        "- **Variance**: Measures how far each data point is from the mean.\n",
        "\n",
        "- **Standard Deviation**: Represents the square root of variance, providing a measure of spread in the same units as the data.\n",
        "\n",
        "- **Interquartile Range (IQR)**: The difference between the 75th percentile (Q3) and the 25th percentile (Q1). It measures the spread of the middle 50% of the data.\n",
        "\n"
      ],
      "metadata": {
        "id": "8uXl7Z9eigzr"
      }
    },
    {
      "cell_type": "code",
      "source": [
        "import numpy as np\n",
        "\n",
        "# Sample dataset\n",
        "data = [15, 20, 35, 40, 50, 60, 75]\n",
        "\n",
        "# 1. Range\n",
        "data_range = max(data) - min(data)\n",
        "\n",
        "# 2. Variance\n",
        "# Population variance\n",
        "variance_population = np.var(data)\n",
        "# Sample variance\n",
        "variance_sample = np.var(data, ddof=1)\n",
        "\n",
        "# 3. Standard Deviation\n",
        "# Population standard deviation\n",
        "std_dev_population = np.sqrt(variance_population)\n",
        "# Sample standard deviation\n",
        "std_dev_sample = np.sqrt(variance_sample)\n",
        "\n",
        "# 4. Interquartile Range (IQR)\n",
        "Q1 = np.percentile(data, 25)  # 25th percentile\n",
        "Q3 = np.percentile(data, 75)  # 75th percentile\n",
        "IQR = Q3 - Q1\n",
        "\n",
        "# Display the results\n",
        "print(\"Measures of Dispersion:\")\n",
        "print(f\"Range: {data_range}\")\n",
        "print(f\"Population Variance: {variance_population:.2f}\")\n",
        "print(f\"Sample Variance: {variance_sample:.2f}\")\n",
        "print(f\"Population Standard Deviation: {std_dev_population:.2f}\")\n",
        "print(f\"Sample Standard Deviation: {std_dev_sample:.2f}\")\n",
        "print(f\"Interquartile Range (IQR): {IQR:.2f}\")\n"
      ],
      "metadata": {
        "id": "sS0oSsuFlxCm",
        "outputId": "058609bc-52aa-4592-c145-81240c0a2141",
        "colab": {
          "base_uri": "https://localhost:8080/"
        }
      },
      "execution_count": 6,
      "outputs": [
        {
          "output_type": "stream",
          "name": "stdout",
          "text": [
            "Measures of Dispersion:\n",
            "Range: 60\n",
            "Population Variance: 391.84\n",
            "Sample Variance: 457.14\n",
            "Population Standard Deviation: 19.79\n",
            "Sample Standard Deviation: 21.38\n",
            "Interquartile Range (IQR): 27.50\n"
          ]
        }
      ]
    }
  ],
  "metadata": {
    "colab": {
      "name": "scratchpad",
      "provenance": [],
      "toc_visible": true,
      "include_colab_link": true
    },
    "kernelspec": {
      "display_name": "Python 3",
      "name": "python3"
    }
  },
  "nbformat": 4,
  "nbformat_minor": 0
}