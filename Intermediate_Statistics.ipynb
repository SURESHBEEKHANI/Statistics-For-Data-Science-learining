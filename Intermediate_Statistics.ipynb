{
  "cells": [
    {
      "cell_type": "markdown",
      "metadata": {
        "id": "view-in-github",
        "colab_type": "text"
      },
      "source": [
        "<a href=\"https://colab.research.google.com/github/SURESHBEEKHANI/Statistics-For-Data-Science-learining/blob/main/Intermediate_Statistics.ipynb\" target=\"_parent\"><img src=\"https://colab.research.google.com/assets/colab-badge.svg\" alt=\"Open In Colab\"/></a>"
      ]
    },
    {
      "cell_type": "markdown",
      "source": [
        "### **Measures Central Tendency of Data : Mean, Median, Mode**\n",
        "\n",
        "In this notebook, we will calculate the mean, median, and mode of a sample dataset using Python libraries `numpy` and `scipy.stats`.\n"
      ],
      "metadata": {
        "id": "S37T04QIXXxC"
      }
    },
    {
      "cell_type": "code",
      "source": [
        "import numpy as np\n",
        "from scipy import stats\n",
        "\n",
        "# Sample dataset\n",
        "data = [2, 4, 6, 8, 10, 10, 12]\n",
        "\n",
        "# Calculate the mean (average)\n",
        "mean = np.mean(data)\n",
        "\n",
        "# Calculate the median (middle value)\n",
        "median = np.median(data)\n",
        "\n",
        "# Calculate the mode (most frequent value)\n",
        "mode_result = stats.mode(data)\n",
        "\n",
        "# Output the results\n",
        "print(f\"Mean: {mean}\")\n",
        "print(f\"Median: {median}\")\n",
        "print(f\"Mode: {mode_result}\")\n"
      ],
      "metadata": {
        "id": "y_8lxjWAVTiI",
        "outputId": "67a8d6f6-4a9f-4796-c0e5-1720ce1625a5",
        "colab": {
          "base_uri": "https://localhost:8080/"
        }
      },
      "execution_count": null,
      "outputs": [
        {
          "output_type": "stream",
          "name": "stdout",
          "text": [
            "Mean: 7.428571428571429\n",
            "Median: 8.0\n",
            "Mode: ModeResult(mode=10, count=2)\n"
          ]
        }
      ]
    },
    {
      "cell_type": "markdown",
      "source": [
        "#### **Measure of Dispersion: Variance and Standard Deviation using NumPy**\n"
      ],
      "metadata": {
        "id": "F9m9f9zkZApO"
      }
    },
    {
      "cell_type": "code",
      "execution_count": null,
      "metadata": {
        "colab": {
          "base_uri": "https://localhost:8080/"
        },
        "id": "lIYdn1woOS1n",
        "outputId": "9bdfcf32-255e-4c70-de6a-39414ef22900"
      },
      "outputs": [
        {
          "output_type": "stream",
          "name": "stdout",
          "text": [
            "Variance: 8.0\n",
            "Standard Deviation: 2.8284271247461903\n"
          ]
        }
      ],
      "source": [
        "import numpy as np\n",
        "\n",
        "# Sample dataset\n",
        "data = [2, 4, 6, 8, 10]\n",
        "\n",
        "# Calculate the variance (population variance by default)\n",
        "variance = np.var(data)\n",
        "\n",
        "# Calculate the standard deviation (population standard deviation by default)\n",
        "std_deviation = np.std(data)\n",
        "\n",
        "# Output the results\n",
        "print(f\"Variance: {variance}\")\n",
        "print(f\"Standard Deviation: {std_deviation}\")\n"
      ]
    }
  ],
  "metadata": {
    "colab": {
      "name": "scratchpad",
      "provenance": [],
      "include_colab_link": true
    },
    "kernelspec": {
      "display_name": "Python 3",
      "name": "python3"
    }
  },
  "nbformat": 4,
  "nbformat_minor": 0
}