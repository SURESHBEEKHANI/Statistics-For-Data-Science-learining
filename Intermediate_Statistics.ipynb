{
  "cells": [
    {
      "cell_type": "markdown",
      "metadata": {
        "id": "view-in-github",
        "colab_type": "text"
      },
      "source": [
        "<a href=\"https://colab.research.google.com/github/SURESHBEEKHANI/Statistics-For-Data-Science-learining/blob/main/Intermediate_Statistics.ipynb\" target=\"_parent\"><img src=\"https://colab.research.google.com/assets/colab-badge.svg\" alt=\"Open In Colab\"/></a>"
      ]
    },
    {
      "cell_type": "markdown",
      "source": [
        "### **Intermediate Statistics**\n",
        "\n",
        "This notebook covers some key concepts in intermediate statistics, including measures of central tendency, measures of dispersion, skewness, Z-scores, and standardization/normalization."
      ],
      "metadata": {
        "id": "OmmseEoqeu49"
      }
    },
    {
      "cell_type": "markdown",
      "source": [
        "### **1. Measures of Central Tendency**\n",
        "\n",
        "Measures of central tendency summarize a dataset by identifying a central or typical value.\n",
        "\n",
        "- **Mean**: Represents the average value of the data points. It is calculated by summing all the values and dividing by the total number of observations.\n",
        "\n",
        "- **Median**: Refers to the middle value in a dataset when the data points are arranged in ascending or descending order. For an even number of observations, it is the average of the two middle values.\n",
        "\n",
        "- **Mode**: Indicates the most frequently occurring value(s) in the dataset. A dataset may have one mode (unimodal), more than one mode (multimodal), or no mode if all values occur with the same frequency.\n"
      ],
      "metadata": {
        "id": "jIBsWjBxigJs"
      }
    },
    {
      "cell_type": "code",
      "source": [
        "# Import the NumPy library for numerical operations, aliasing it as 'np'\n",
        "import numpy as np\n",
        "\n",
        "# Import the 'stats' module from the SciPy library for statistical functions\n",
        "from scipy import stats\n",
        "\n",
        "# Define a sample dataset as a list of integers\n",
        "data = [2, 4, 6, 8, 10, 10, 12]\n",
        "\n",
        "# Calculate the mean (average) of the dataset using NumPy's mean function\n",
        "mean = np.mean(data)\n",
        "\n",
        "# Calculate the median (middle value) of the dataset using NumPy's median function\n",
        "median = np.median(data)\n",
        "\n",
        "# Calculate the mode (most frequent value) of the dataset using SciPy's stats.mode function\n",
        "# The result is stored in a structured object that contains the mode value and its count\n",
        "mode_result = stats.mode(data)\n",
        "\n",
        "# Print the calculated mean value in a formatted string\n",
        "print(f\"Mean: {mean}\")\n",
        "\n",
        "# Print the calculated median value in a formatted string\n",
        "print(f\"Median: {median}\")\n",
        "\n",
        "# Print the mode result (both the mode value and its frequency) in a formatted string\n",
        "print(f\"Mode: {mode_result}\")\n"
      ],
      "metadata": {
        "id": "c-MXPoI8kEjy",
        "outputId": "82455804-4887-4701-822a-7b14f3c5d3f1",
        "colab": {
          "base_uri": "https://localhost:8080/"
        }
      },
      "execution_count": 19,
      "outputs": [
        {
          "output_type": "stream",
          "name": "stdout",
          "text": [
            "Mean: 7.428571428571429\n",
            "Median: 8.0\n",
            "Mode: ModeResult(mode=10, count=2)\n"
          ]
        }
      ]
    },
    {
      "cell_type": "markdown",
      "source": [
        "### **2. Measures of Dispersion**\n",
        "\n",
        "Dispersion quantifies the spread or variability of a dataset.\n",
        "\n",
        "- **Range**: The difference between the maximum and minimum values in the dataset.  \n",
        "\n",
        "- **Variance**: Measures how far each data point is from the mean.\n",
        "\n",
        "- **Standard Deviation**: Represents the square root of variance, providing a measure of spread in the same units as the data.\n",
        "\n",
        "- **Interquartile Range (IQR)**: The difference between the 75th percentile (Q3) and the 25th percentile (Q1). It measures the spread of the middle 50% of the data.\n",
        "\n"
      ],
      "metadata": {
        "id": "8uXl7Z9eigzr"
      }
    },
    {
      "cell_type": "code",
      "source": [
        "import numpy as np  # Importing the NumPy library for numerical computations\n",
        "\n",
        "# Sample dataset\n",
        "data = [15, 20, 35, 40, 50, 60, 75]  # A list of numerical data points\n",
        "\n",
        "# 1. Range\n",
        "data_range = max(data) - min(data)  # Calculating the range of the dataset (max value - min value)\n",
        "\n",
        "# 2. Variance\n",
        "# Population variance\n",
        "variance_population = np.var(data)  # Calculating the population variance using NumPy's var() method\n",
        "# Sample variance\n",
        "variance_sample = np.var(data, ddof=1)  # Calculating the sample variance (ddof=1 adjusts for degrees of freedom)\n",
        "\n",
        "# 3. Standard Deviation\n",
        "# Population standard deviation\n",
        "std_dev_population = np.sqrt(variance_population)  # Calculating the population standard deviation as the square root of the population variance\n",
        "# Sample standard deviation\n",
        "std_dev_sample = np.sqrt(variance_sample)  # Calculating the sample standard deviation as the square root of the sample variance\n",
        "\n",
        "# Display the results\n",
        "print(\"Measures of Dispersion:\")  # Displaying a header for the results\n",
        "print(f\"Range: {data_range}\")  # Displaying the calculated range\n",
        "print(f\"Population Variance: {variance_population:.2f}\")  # Displaying the population variance rounded to 2 decimal places\n",
        "print(f\"Sample Variance: {variance_sample:.2f}\")  # Displaying the sample variance rounded to 2 decimal places\n",
        "print(f\"Population Standard Deviation: {std_dev_population:.2f}\")  # Displaying the population standard deviation rounded to 2 decimal places\n",
        "print(f\"Sample Standard Deviation: {std_dev_sample:.2f}\")  # Displaying the sample standard deviation rounded to 2 decimal places\n"
      ],
      "metadata": {
        "id": "sS0oSsuFlxCm",
        "outputId": "84d38906-3e81-4901-87ff-4bc15e5eed6b",
        "colab": {
          "base_uri": "https://localhost:8080/"
        }
      },
      "execution_count": 20,
      "outputs": [
        {
          "output_type": "stream",
          "name": "stdout",
          "text": [
            "Measures of Dispersion:\n",
            "Range: 60\n",
            "Population Variance: 391.84\n",
            "Sample Variance: 457.14\n",
            "Population Standard Deviation: 19.79\n",
            "Sample Standard Deviation: 21.38\n"
          ]
        }
      ]
    },
    {
      "cell_type": "markdown",
      "source": [
        "## **Percentiles and Quartiles**\n",
        "\n",
        "**Percentiles**\n",
        "\n",
        "- Indicate the value below which a certain percentage of the data falls.\n",
        "- **Examples**:\n",
        "  - 25th Percentile (P25): 25% of data is below this value.\n",
        "  - 90th Percentile (P90): 90% of data is below this value.\n",
        "- Used in:\n",
        "  - Test scores\n",
        "  - Statistical trends\n",
        "\n",
        "## **Quartiles**\n",
        "- Divide the data into four equal parts:\n",
        "  1. **Q1**: 25th percentile (lower quartile).\n",
        "  2. **Q2**: 50th percentile (median).\n",
        "  3. **Q3**: 75th percentile (upper quartile).\n",
        "- **Interquartile Range (IQR)**: Measures the middle 50% of the data (Q3 - Q1).\n",
        "\n",
        "## **Key Differences**\n",
        "| Feature         | Percentiles              | Quartiles               |\n",
        "|------------------|--------------------------|-------------------------|\n",
        "| Division         | 100 equal parts          | 4 equal parts           |\n",
        "| Examples         | P10, P25, P90            | Q1, Q2 (Median), Q3     |\n",
        "| Focus            | Any percentage           | 25%, 50%, 75%           |\n"
      ],
      "metadata": {
        "id": "uaTAodBv5xbK"
      }
    },
    {
      "cell_type": "code",
      "source": [
        "# Importing the numpy library and aliasing it as np for numerical operations.\n",
        "import numpy as np\n",
        "\n",
        "# Dataset: A list of numerical values used for statistical analysis.\n",
        "data = [10, 15, 20, 25, 30, 35, 40, -400, 100]\n",
        "\n",
        "# Sorting the dataset in ascending order to facilitate percentile and IQR calculations.\n",
        "data.sort()\n",
        "\n",
        "# Calculating the first quartile (Q1), which is the 25th percentile of the sorted data.\n",
        "Q1 = np.percentile(data, 25)\n",
        "\n",
        "# Calculating the third quartile (Q3), which is the 75th percentile of the sorted data.\n",
        "Q3 = np.percentile(data, 75)\n",
        "\n",
        "# Calculating the interquartile range (IQR), which is the difference between Q3 and Q1.\n",
        "IQR = Q3 - Q1\n",
        "\n",
        "# Calculating the lower bound for outliers using the formula Q1 - 1.5 * IQR.\n",
        "lower_bound = Q1 - 1.5 * IQR\n",
        "\n",
        "# Calculating the upper bound for outliers using the formula Q3 + 1.5 * IQR.\n",
        "upper_bound = Q3 + 1.5 * IQR\n",
        "\n",
        "# Checking if the value 30 is an outlier by verifying if it falls outside the calculated bounds.\n",
        "is_30_outlier = not (lower_bound <= 30 <= upper_bound)\n",
        "\n",
        "# Printing the results for the quartiles, IQR, bounds, and whether 30 is an outlier.\n",
        "print(f\"Q1 (25th Percentile): {Q1}\")  # Displaying the first quartile.\n",
        "print(f\"Q3 (75th Percentile): {Q3}\")  # Displaying the third quartile.\n",
        "print(f\"IQR: {IQR}\")                  # Displaying the interquartile range.\n",
        "print(f\"Lower Bound: {lower_bound}\")  # Displaying the calculated lower bound.\n",
        "print(f\"Upper Bound: {upper_bound}\")  # Displaying the calculated upper bound.\n",
        "print(f\"Is 30 an Outlier? {'Yes' if is_30_outlier else 'No'}\")  # Showing if 30 is an outlier.\n"
      ],
      "metadata": {
        "id": "Tfm-CaeM_obI",
        "outputId": "4f8277d3-bc2b-49e5-ffb9-7d25b914889c",
        "colab": {
          "base_uri": "https://localhost:8080/"
        }
      },
      "execution_count": 21,
      "outputs": [
        {
          "output_type": "stream",
          "name": "stdout",
          "text": [
            "Q1 (25th Percentile): 15.0\n",
            "Q3 (75th Percentile): 35.0\n",
            "IQR: 20.0\n",
            "Lower Bound: -15.0\n",
            "Upper Bound: 65.0\n",
            "Is 30 an Outlier? No\n"
          ]
        }
      ]
    },
    {
      "cell_type": "markdown",
      "source": [
        "#### **Outlier Detection and Removal with Five-Number Summary**\n",
        "\n",
        "In this notebook, we'll explore how to:\n",
        "1. Calculate the **Five-Number Summary** of a dataset.\n",
        "2. Detect and **remove outliers** using the Interquartile Range (IQR) method.\n",
        "3. Visualize the **original dataset** and the **cleaned dataset** (after removing outliers) using box plots.\n"
      ],
      "metadata": {
        "id": "fY6J7uhg5OSj"
      }
    },
    {
      "cell_type": "code",
      "source": [
        "import numpy as np  # Importing NumPy for numerical operations like calculating percentiles\n",
        "import matplotlib.pyplot as plt  # Importing Matplotlib for plotting visualizations (like box plots)\n",
        "\n",
        "# Sample dataset with added outliers\n",
        "data = [15, 20, 35, 40, 50, 60, 75, -10, 120, -500, 1000]  # List containing the data values, including some outliers.\n",
        "\n",
        "# Sort the data to ensure the dataset is ordered\n",
        "sorted_data = sorted(data)  # Sorting the data in ascending order to make calculations easier.\n",
        "\n",
        "# Five-number summary\n",
        "q1 = np.percentile(sorted_data, 25)  # First quartile (25th percentile), representing the data point below which 25% of the data fall.\n",
        "median = np.median(sorted_data)  # Median (50th percentile), the middle value separating the higher half from the lower half of the dataset.\n",
        "q3 = np.percentile(sorted_data, 75)  # Third quartile (75th percentile), the data point below which 75% of the data fall.\n",
        "\n",
        "# Detecting outliers using the IQR method\n",
        "iqr = q3 - q1  # Interquartile range (IQR) is the difference between Q3 and Q1. It represents the spread of the middle 50% of the data.\n",
        "lower_bound = q1 - 1.5 * iqr  # Lower bound for outlier detection. Values below this are considered outliers.\n",
        "upper_bound = q3 + 1.5 * iqr  # Upper bound for outlier detection. Values above this are considered outliers.\n",
        "\n",
        "# Remove outliers by filtering the data to only include values within the calculated bounds\n",
        "cleaned_data = [x for x in sorted_data if lower_bound <= x <= upper_bound]  # A list comprehension that includes only the values within the bounds.\n",
        "\n",
        "# Display results\n",
        "print(\"Original Data:\")  # Print header for the original data\n",
        "print(data)  # Print the original dataset\n",
        "\n",
        "print(\"\\nFive-Number Summary (Original Data):\")  # Print header for the five-number summary\n",
        "print(f\"Q1: {q1:.2f}\")  # Print the first quartile with two decimal points\n",
        "print(f\"Median: {median}\")  # Print the median\n",
        "print(f\"Q3: {q3:.2f}\")  # Print the third quartile with two decimal points\n",
        "print(f\"IQR: {iqr:.2f}\")  # Print the interquartile range with two decimal points\n",
        "print(f\"Lower Bound: {lower_bound:.2f}\")  # Print the lower bound with two decimal points\n",
        "print(f\"Upper Bound: {upper_bound:.2f}\")  # Print the upper bound with two decimal points\n",
        "\n",
        "print(\"\\nOutlier Removal:\")  # Print header for the outlier removal section\n",
        "print(f\"Cleaned Data: {cleaned_data}\")  # Print the data after outliers have been removed\n",
        "\n",
        "# Box plot visualization\n",
        "plt.figure(figsize=(10, 6))  # Create a figure for plotting, specifying the size of the plot.\n",
        "\n",
        "# Plot the box plot for the original data with outliers\n",
        "plt.subplot(1, 2, 1)  # Create the first subplot (for original data).\n",
        "plt.boxplot(data, vert=False, patch_artist=True, boxprops=dict(facecolor=\"lightcoral\"), showmeans=True)  # Box plot for original data with a coral color.\n",
        "plt.title(\"Original Data with Outliers\")  # Title of the first plot\n",
        "plt.xlabel(\"Value\")  # Label for the x-axis\n",
        "plt.grid(axis=\"x\")  # Display gridlines along the x-axis\n",
        "\n",
        "# Plot the box plot for the cleaned data without outliers\n",
        "plt.subplot(1, 2, 2)  # Create the second subplot (for cleaned data).\n",
        "plt.boxplot(cleaned_data, vert=False, patch_artist=True, boxprops=dict(facecolor=\"lightgreen\"), showmeans=True)  # Box plot for cleaned data with a light green color.\n",
        "plt.title(\"Cleaned Data (Outliers Removed)\")  # Title of the second plot\n",
        "plt.xlabel(\"Value\")  # Label for the x-axis\n",
        "plt.grid(axis=\"x\")  # Display gridlines along the x-axis\n",
        "\n",
        "# Adjust the layout to prevent overlap of the subplots\n",
        "plt.tight_layout()  # Adjust subplots to fit in the figure area without overlap\n",
        "\n",
        "# Display the plots\n",
        "plt.show()  # Show the box plot visualizations\n"
      ],
      "metadata": {
        "id": "1S6oh-ei2vOm",
        "outputId": "555c6bef-f5e1-4457-8b96-ed9e4e65575f",
        "colab": {
          "base_uri": "https://localhost:8080/",
          "height": 833
        }
      },
      "execution_count": 24,
      "outputs": [
        {
          "output_type": "stream",
          "name": "stdout",
          "text": [
            "Original Data:\n",
            "[15, 20, 35, 40, 50, 60, 75, -10, 120, -500, 1000]\n",
            "\n",
            "Five-Number Summary (Original Data):\n",
            "Q1: 17.50\n",
            "Median: 40.0\n",
            "Q3: 67.50\n",
            "IQR: 50.00\n",
            "Lower Bound: -57.50\n",
            "Upper Bound: 142.50\n",
            "\n",
            "Outlier Removal:\n",
            "Cleaned Data: [-10, 15, 20, 35, 40, 50, 60, 75, 120]\n"
          ]
        },
        {
          "output_type": "display_data",
          "data": {
            "text/plain": [
              "<Figure size 1000x600 with 2 Axes>"
            ],
            "image/png": "[encoded data removed]"
          },
          "metadata": {}
        }
      ]
    }
  ],
  "metadata": {
    "colab": {
      "name": "scratchpad",
      "provenance": [],
      "toc_visible": true,
      "include_colab_link": true
    },
    "kernelspec": {
      "display_name": "Python 3",
      "name": "python3"
    }
  },
  "nbformat": 4,
  "nbformat_minor": 0
}