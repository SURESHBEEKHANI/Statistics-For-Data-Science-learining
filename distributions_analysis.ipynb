{
  "nbformat": 4,
  "nbformat_minor": 0,
  "metadata": {
    "colab": {
      "private_outputs": true,
      "provenance": [],
      "authorship_tag": "ABX9TyNrxEigECrUJ/VdqROrLHqO",
      "include_colab_link": true
    },
    "kernelspec": {
      "name": "python3",
      "display_name": "Python 3"
    },
    "language_info": {
      "name": "python"
    }
  },
  "cells": [
    {
      "cell_type": "markdown",
      "metadata": {
        "id": "view-in-github",
        "colab_type": "text"
      },
      "source": [
        "<a href=\"https://colab.research.google.com/github/SURESHBEEKHANI/Statistics-For-Data-Science-learining/blob/main/distributions_analysis.ipynb\" target=\"_parent\"><img src=\"https://colab.research.google.com/assets/colab-badge.svg\" alt=\"Open In Colab\"/></a>"
      ]
    },
    {
      "cell_type": "markdown",
      "source": [
        "# **Statistical Distributions**\n",
        "\n",
        "This notebook covers key statistical concepts:  \n",
        "- **Normal Distribution**: Common in natural phenomena, symmetric bell shape.  \n",
        "- **Log-Normal Distribution**: Positive values, right-skewed, used in financial modeling.  \n",
        "- **Power Law Distribution**: Heavy-tailed, explains rare events dominating outcomes.  \n",
        "- **Pareto Distribution**: \"80/20 rule,\" common in economics.  \n",
        "- **Central Limit Theorem (CLT)**: Explains why sampling distributions tend to be normal.\n",
        "\n",
        "### **Objective**\n",
        "Visualize and understand these distributions and the CLT using Python.\n"
      ],
      "metadata": {
        "id": "a4quT5XYAjcU"
      }
    },
    {
      "cell_type": "code",
      "execution_count": null,
      "metadata": {
        "id": "9WaYsxaA96zC"
      },
      "outputs": [],
      "source": [
        "import numpy as np\n",
        "import matplotlib.pyplot as plt\n",
        "import seaborn as sns\n",
        "\n",
        "# Generate data for a Normal Distribution\n",
        "mean = 0      # Mean of the distribution\n",
        "std_dev = 1   # Standard deviation\n",
        "sample_size = 10000  # Number of random samples to generate\n",
        "\n",
        "# Generate random samples from a normal distribution using the mean, standard deviation, and sample size\n",
        "data = np.random.normal(mean, std_dev, sample_size)\n",
        "\n",
        "# Calculate the boundaries for the Empirical Rule (68-95-99.7 rule)\n",
        "one_std = (mean - std_dev, mean + std_dev)    # Boundaries for 1σ\n",
        "two_std = (mean - 2*std_dev, mean + 2*std_dev) # Boundaries for 2σ\n",
        "three_std = (mean - 3*std_dev, mean + 3*std_dev) # Boundaries for 3σ\n",
        "\n",
        "# Plot the distribution using a histogram and a Kernel Density Estimate (KDE)\n",
        "plt.figure(figsize=(12, 6))  # Set the size of the plot\n",
        "sns.histplot(data, kde=True, bins=50, color='skyblue', label='Data', stat=\"density\", linewidth=0)  # Plot histogram with KDE curve\n",
        "\n",
        "# Highlight regions for the Empirical Rule on the plot\n",
        "plt.axvspan(one_std[0], one_std[1], color='green', alpha=0.3, label='68% within 1σ')  # Highlight 68% region\n",
        "plt.axvspan(two_std[0], two_std[1], color='yellow', alpha=0.3, label='95% within 2σ')  # Highlight 95% region\n",
        "plt.axvspan(three_std[0], three_std[1], color='red', alpha=0.2, label='99.7% within 3σ')  # Highlight 99.7% region\n",
        "\n",
        "# Add details to the plot with a professional style\n",
        "plt.title(\"Normal Distribution with Empirical Rule\", fontsize=18, fontweight='bold', pad=20)  # Title of the plot\n",
        "plt.xlabel(\"Value\", fontsize=14, labelpad=10)  # Label for the x-axis\n",
        "plt.ylabel(\"Density\", fontsize=14, labelpad=10)  # Label for the y-axis\n",
        "plt.legend(fontsize=12, loc='upper right')  # Add legend\n",
        "plt.grid(True, which='both', linestyle='--', linewidth=0.5, alpha=0.6)  # Add grid with lighter style\n",
        "\n",
        "# Set the style for the plot\n",
        "sns.set_style(\"whitegrid\")\n",
        "\n",
        "# Show the plot\n",
        "plt.show()\n",
        "\n",
        "# Print percentages to validate that the data fits the Empirical Rule\n",
        "within_1_std = np.mean((data >= one_std[0]) & (data <= one_std[1])) * 100  # Percentage within 1σ\n",
        "within_2_std = np.mean((data >= two_std[0]) & (data <= two_std[1])) * 100  # Percentage within 2σ\n",
        "within_3_std = np.mean((data >= three_std[0]) & (data <= three_std[1])) * 100  # Percentage within 3σ\n",
        "\n",
        "# Output the calculated percentages\n",
        "print(f\"Data within 1σ: {within_1_std:.2f}%\")\n",
        "print(f\"Data within 2σ: {within_2_std:.2f}%\")\n",
        "print(f\"Data within 3σ: {within_3_std:.2f}%\")\n"
      ]
    }
  ]
}