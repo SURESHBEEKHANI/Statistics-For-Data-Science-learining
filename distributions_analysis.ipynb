{
  "nbformat": 4,
  "nbformat_minor": 0,
  "metadata": {
    "colab": {
      "private_outputs": true,
      "provenance": [],
      "gpuType": "T4",
      "authorship_tag": "ABX9TyNb22nrPCMDVwedZG/T9Vq0",
      "include_colab_link": true
    },
    "kernelspec": {
      "name": "python3",
      "display_name": "Python 3"
    },
    "language_info": {
      "name": "python"
    },
    "accelerator": "GPU"
  },
  "cells": [
    {
      "cell_type": "markdown",
      "metadata": {
        "id": "view-in-github",
        "colab_type": "text"
      },
      "source": [
        "<a href=\"https://colab.research.google.com/github/SURESHBEEKHANI/Statistics-For-Data-Science-learining/blob/main/distributions_analysis.ipynb\" target=\"_parent\"><img src=\"https://colab.research.google.com/assets/colab-badge.svg\" alt=\"Open In Colab\"/></a>"
      ]
    },
    {
      "cell_type": "markdown",
      "source": [
        "# **Statistical Distributions**\n",
        "\n",
        "This notebook covers key statistical concepts:  \n",
        "- **Normal Distribution**: Common in natural phenomena, symmetric bell shape.  \n",
        "- **Log-Normal Distribution**: Positive values, right-skewed, used in financial modeling.  \n",
        "- **Power Law Distribution**: Heavy-tailed, explains rare events dominating outcomes.  \n",
        "- **Pareto Distribution**: \"80/20 rule,\" common in economics.  \n",
        "- **Central Limit Theorem (CLT)**: Explains why sampling distributions tend to be normal.\n",
        "\n",
        "### **Objective**\n",
        "Visualize and understand these distributions and the CLT using Python.\n"
      ],
      "metadata": {
        "id": "a4quT5XYAjcU"
      }
    },
    {
      "cell_type": "markdown",
      "source": [
        "### **Normal Distribution Visualization with Empirical Rule**\n",
        "\n",
        "This code generates a normal distribution of random data and visualizes it with the Empirical Rule (68-95-99.7 rule), which describes the percentage of data within one, two, and three standard deviations of the mean."
      ],
      "metadata": {
        "id": "AR_m8WwCE-U0"
      }
    },
    {
      "cell_type": "code",
      "execution_count": null,
      "metadata": {
        "id": "9WaYsxaA96zC"
      },
      "outputs": [],
      "source": [
        "import numpy as np\n",
        "import matplotlib.pyplot as plt\n",
        "import seaborn as sns\n",
        "\n",
        "# Generate data for a Normal Distribution\n",
        "mean = 0      # Mean of the distribution\n",
        "std_dev = 1   # Standard deviation\n",
        "sample_size = 10000  # Number of random samples to generate\n",
        "\n",
        "# Generate random samples from a normal distribution using the mean, standard deviation, and sample size\n",
        "data = np.random.normal(mean, std_dev, sample_size)\n",
        "\n",
        "# Calculate the boundaries for the Empirical Rule (68-95-99.7 rule)\n",
        "one_std = (mean - std_dev, mean + std_dev)    # Boundaries for 1σ\n",
        "two_std = (mean - 2*std_dev, mean + 2*std_dev) # Boundaries for 2σ\n",
        "three_std = (mean - 3*std_dev, mean + 3*std_dev) # Boundaries for 3σ\n",
        "\n",
        "# Plot the distribution using a histogram and a Kernel Density Estimate (KDE)\n",
        "plt.figure(figsize=(12, 6))  # Set the size of the plot\n",
        "sns.histplot(data, kde=True, bins=50, color='skyblue', label='Data', stat=\"density\", linewidth=0)  # Plot histogram with KDE curve\n",
        "\n",
        "# Highlight regions for the Empirical Rule on the plot\n",
        "plt.axvspan(one_std[0], one_std[1], color='green', alpha=0.3, label='68% within 1σ')  # Highlight 68% region\n",
        "plt.axvspan(two_std[0], two_std[1], color='yellow', alpha=0.3, label='95% within 2σ')  # Highlight 95% region\n",
        "plt.axvspan(three_std[0], three_std[1], color='red', alpha=0.2, label='99.7% within 3σ')  # Highlight 99.7% region\n",
        "\n",
        "# Add details to the plot with a professional style\n",
        "plt.title(\"Normal Distribution with Empirical Rule\", fontsize=18, fontweight='bold', pad=20)  # Title of the plot\n",
        "plt.xlabel(\"Value\", fontsize=14, labelpad=10)  # Label for the x-axis\n",
        "plt.ylabel(\"Density\", fontsize=14, labelpad=10)  # Label for the y-axis\n",
        "plt.legend(fontsize=12, loc='upper right')  # Add legend\n",
        "plt.grid(True, which='both', linestyle='--', linewidth=0.5, alpha=0.6)  # Add grid with lighter style\n",
        "\n",
        "# Set the style for the plot\n",
        "sns.set_style(\"whitegrid\")\n",
        "\n",
        "# Show the plot\n",
        "plt.show()\n",
        "\n",
        "# Print percentages to validate that the data fits the Empirical Rule\n",
        "within_1_std = np.mean((data >= one_std[0]) & (data <= one_std[1])) * 100  # Percentage within 1σ\n",
        "within_2_std = np.mean((data >= two_std[0]) & (data <= two_std[1])) * 100  # Percentage within 2σ\n",
        "within_3_std = np.mean((data >= three_std[0]) & (data <= three_std[1])) * 100  # Percentage within 3σ\n",
        "\n",
        "# Output the calculated percentages\n",
        "print(f\"Data within 1σ: {within_1_std:.2f}%\")\n",
        "print(f\"Data within 2σ: {within_2_std:.2f}%\")\n",
        "print(f\"Data within 3σ: {within_3_std:.2f}%\")\n"
      ]
    },
    {
      "cell_type": "markdown",
      "source": [
        "### **Central Limit Theorem (CLT) Demonstration**\n",
        "\n",
        "This code demonstrates the **Central Limit Theorem (CLT)**, which shows that the distribution of sample means tends to be normal, even when the population distribution is not. The example uses a **uniform distribution** as the population and repeatedly samples from it to illustrate the CLT.\n"
      ],
      "metadata": {
        "id": "bEmLBVGyG8aC"
      }
    },
    {
      "cell_type": "code",
      "source": [
        "import numpy as np\n",
        "import matplotlib.pyplot as plt\n",
        "import seaborn as sns\n",
        "\n",
        "# Parameters\n",
        "population_size = 100000  # Size of the population\n",
        "sample_size = 30          # Sample size (for CLT to work, this should be at least 30)\n",
        "num_samples = 1000        # Number of random samples to take\n",
        "population_min = 0        # Minimum value for the uniform distribution\n",
        "population_max = 10       # Maximum value for the uniform distribution\n",
        "\n",
        "# Step 1: Generate a population with a uniform distribution\n",
        "population = np.random.uniform(population_min, population_max, population_size)\n",
        "\n",
        "# Step 2: Take repeated random samples and calculate the sample mean\n",
        "sample_means = []\n",
        "\n",
        "for _ in range(num_samples):\n",
        "    sample = np.random.choice(population, size=sample_size)\n",
        "    sample_means.append(np.mean(sample))\n",
        "\n",
        "# Step 3: Visualize the population and the sampling distribution of sample means\n",
        "plt.figure(figsize=(12, 6))\n",
        "\n",
        "# Plot the population distribution (Uniform Distribution)\n",
        "plt.subplot(1, 2, 1)\n",
        "sns.histplot(population, bins=50, kde=False, color='skyblue', label='Population', alpha=0.7)\n",
        "plt.title('Population Distribution (Uniform)', fontsize=14)\n",
        "plt.xlabel('Value', fontsize=12)\n",
        "plt.ylabel('Frequency', fontsize=12)\n",
        "plt.grid(True)\n",
        "\n",
        "# Plot the sampling distribution of sample means\n",
        "plt.subplot(1, 2, 2)\n",
        "sns.histplot(sample_means, bins=30, kde=True, color='orange', label='Sample Means', alpha=0.7)\n",
        "plt.title('Sampling Distribution of the Mean (CLT)', fontsize=14)\n",
        "plt.xlabel('Sample Mean', fontsize=12)\n",
        "plt.ylabel('Frequency', fontsize=12)\n",
        "plt.grid(True)\n",
        "\n",
        "# Show the plots\n",
        "plt.tight_layout()\n",
        "plt.show()\n",
        "\n",
        "# Display some statistics for the sampling distribution\n",
        "print(f\"Population Mean: {np.mean(population)}\")\n",
        "print(f\"Sampling Distribution Mean: {np.mean(sample_means)}\")\n",
        "print(f\"Sampling Distribution Standard Deviation (Standard Error): {np.std(sample_means)}\")\n"
      ],
      "metadata": {
        "id": "cu2OdH6ZFdpi"
      },
      "execution_count": null,
      "outputs": []
    },
    {
      "cell_type": "markdown",
      "source": [
        "### **Plotting Normal, Log-Normal, and Recovered Normal Distributions**\n",
        "\n",
        "This Python code demonstrates how to generate a normal distribution, transform it into a log-normal distribution, and then recover the original normal distribution from the log-normal data."
      ],
      "metadata": {
        "id": "tRhq22fJKrPz"
      }
    },
    {
      "cell_type": "code",
      "source": [
        "import numpy as np\n",
        "import matplotlib.pyplot as plt\n",
        "import seaborn as sns\n",
        "\n",
        "# Parameters for the normal distribution (used to generate the log-normal distribution)\n",
        "mu = 0         # Mean of the normal distribution\n",
        "sigma = 0.5    # Standard deviation of the normal distribution\n",
        "sample_size = 10000  # Number of samples to generate\n",
        "\n",
        "# Generate normal distribution data\n",
        "normal_data = np.random.normal(mu, sigma, sample_size)\n",
        "\n",
        "# Generate log-normal data from the normal distribution\n",
        "log_normal_data = np.exp(normal_data)\n",
        "\n",
        "# Recover the original normal data by taking the natural logarithm of the log-normal data\n",
        "recovered_normal_data = np.log(log_normal_data)\n",
        "\n",
        "# Plot the normal distribution (original), log-normal distribution, and recovered normal distribution\n",
        "plt.figure(figsize=(18, 6))\n",
        "\n",
        "# Plot the normal distribution (original)\n",
        "plt.subplot(1, 3, 1)\n",
        "sns.histplot(normal_data, bins=50, kde=True, color='skyblue', label='Normal Data')\n",
        "plt.title('Normal Distribution (Original)', fontsize=16)\n",
        "plt.xlabel('Value', fontsize=14)\n",
        "plt.ylabel('Frequency', fontsize=14)\n",
        "plt.legend()\n",
        "plt.grid(True)\n",
        "\n",
        "# Plot the log-normal distribution\n",
        "plt.subplot(1, 3, 2)\n",
        "sns.histplot(log_normal_data, bins=50, kde=True, color='orange', label='Log-Normal Data')\n",
        "plt.title('Log-Normal Distribution', fontsize=16)\n",
        "plt.xlabel('Value', fontsize=14)\n",
        "plt.ylabel('Frequency', fontsize=14)\n",
        "plt.legend()\n",
        "plt.grid(True)\n",
        "\n",
        "# Plot the recovered normal distribution\n",
        "plt.subplot(1, 3, 3)\n",
        "sns.histplot(recovered_normal_data, bins=50, kde=True, color='green', label='Recovered Normal Data')\n",
        "plt.title('Recovered Normal Distribution', fontsize=16)\n",
        "plt.xlabel('Value', fontsize=14)\n",
        "plt.ylabel('Frequency', fontsize=14)\n",
        "plt.legend()\n",
        "plt.grid(True)\n",
        "\n",
        "# Show the plots\n",
        "plt.tight_layout()\n",
        "plt.show()\n",
        "\n",
        "# Print the mean and variance of the recovered normal data\n",
        "print(f\"Recovered Normal Data Mean: {np.mean(recovered_normal_data)}\")\n",
        "print(f\"Recovered Normal Data Variance: {np.var(recovered_normal_data)}\")\n"
      ],
      "metadata": {
        "id": "WJEjL_FyJwWt"
      },
      "execution_count": null,
      "outputs": []
    },
    {
      "cell_type": "markdown",
      "source": [
        "### **Transforming Power-law Distributed Data to Approximate Normality using Box-Cox**\n",
        "\n",
        "This code demonstrates how to generate Power-law distributed data and transform it into an approximately normal distribution using the Box-Cox transformation. It visualizes the original data, transformed data, and a QQ plot for normality check."
      ],
      "metadata": {
        "id": "Mdt8un70cIYW"
      }
    },
    {
      "cell_type": "code",
      "source": [
        "import numpy as np\n",
        "import matplotlib.pyplot as plt\n",
        "import seaborn as sns\n",
        "from scipy.stats import boxcox\n",
        "\n",
        "# Define parameters for generating Power-law distributed data\n",
        "alpha = 2.5  # Scaling exponent\n",
        "xmin = 1     # Minimum value\n",
        "sample_size = 10000  # Number of samples\n",
        "\n",
        "# Generate Power-law distributed data\n",
        "power_law_data = (np.random.pareto(alpha, sample_size) + 1) * xmin\n",
        "\n",
        "# Transform the data to approximate a normal distribution using Box-Cox\n",
        "# Box-Cox requires all positive values, which is satisfied here\n",
        "transformed_data, _ = boxcox(power_law_data)\n",
        "\n",
        "# Plot the Power-law data and transformed data\n",
        "plt.figure(figsize=(18, 6))\n",
        "\n",
        "# Histogram of the original Power-law data\n",
        "plt.subplot(1, 3, 1)\n",
        "sns.histplot(power_law_data, bins=50, kde=True, color='blue', stat='density', alpha=0.6)\n",
        "plt.title(\"Original Power-law Data\")\n",
        "plt.xlabel(\"Value\")\n",
        "plt.ylabel(\"Density\")\n",
        "\n",
        "# Histogram of the transformed data (approximate Normal Distribution)\n",
        "plt.subplot(1, 3, 2)\n",
        "sns.histplot(transformed_data, bins=50, kde=True, color='green', stat='density', alpha=0.6)\n",
        "plt.title(\"Transformed Data (Approx. Normal)\")\n",
        "plt.xlabel(\"Value\")\n",
        "plt.ylabel(\"Density\")\n",
        "\n",
        "# Combined QQ plot for visual comparison of Normality\n",
        "from scipy.stats import probplot\n",
        "plt.subplot(1, 3, 3)\n",
        "probplot(transformed_data, dist=\"norm\", plot=plt)\n",
        "plt.title(\"QQ Plot of Transformed Data\")\n",
        "\n",
        "# Adjust layout for clarity\n",
        "plt.tight_layout()\n",
        "plt.show()\n"
      ],
      "metadata": {
        "id": "Il-ZAFloXk9Y"
      },
      "execution_count": null,
      "outputs": []
    },
    {
      "cell_type": "markdown",
      "source": [
        "### **Transforming Pareto-Distributed Data to Normal Distribution**\n",
        "\n",
        "This notebook demonstrates how to transform Pareto-distributed data into an approximate normal distribution. The transformation process includes log-transforming the data and standardizing it. The original and transformed data distributions are visualized."
      ],
      "metadata": {
        "id": "itaBxwjjcixt"
      }
    },
    {
      "cell_type": "code",
      "source": [
        "import numpy as np\n",
        "import matplotlib.pyplot as plt\n",
        "import seaborn as sns\n",
        "\n",
        "# Parameters for Pareto distribution\n",
        "alpha = 2.5  # Shape parameter\n",
        "xmin = 1     # Minimum value\n",
        "size = 10000  # Total samples\n",
        "\n",
        "# Generate Pareto-distributed data\n",
        "pareto_data = (np.random.pareto(alpha, size) + 1) * xmin\n",
        "\n",
        "# Split the data into two groups\n",
        "group1, group2 = np.split(pareto_data, 2)\n",
        "\n",
        "# Function to convert Pareto data to normal distribution\n",
        "def pareto_to_normal(data):\n",
        "    # Log-transform the data\n",
        "    log_data = np.log(data)\n",
        "    # Standardize (z-score normalization)\n",
        "    return (log_data - np.mean(log_data)) / np.std(log_data)\n",
        "\n",
        "# Apply transformation to each group\n",
        "group1_normal = pareto_to_normal(group1)\n",
        "group2_normal = pareto_to_normal(group2)\n",
        "\n",
        "# Plot the results\n",
        "plt.figure(figsize=(18, 6))\n",
        "\n",
        "# Original Pareto Data\n",
        "plt.subplot(1, 3, 1)\n",
        "sns.histplot(pareto_data, bins=50, kde=True, color='blue', stat='density', alpha=0.6)\n",
        "plt.title(\"Original Pareto Distribution\")\n",
        "plt.xlabel(\"Value\")\n",
        "plt.ylabel(\"Density\")\n",
        "\n",
        "# Transformed Normal Group 1\n",
        "plt.subplot(1, 3, 2)\n",
        "sns.histplot(group1_normal, bins=50, kde=True, color='green', stat='density', alpha=0.6)\n",
        "plt.title(\"Group 1 - Transformed Normal\")\n",
        "plt.xlabel(\"Normalized Value\")\n",
        "plt.ylabel(\"Density\")\n",
        "\n",
        "# Transformed Normal Group 2\n",
        "plt.subplot(1, 3, 3)\n",
        "sns.histplot(group2_normal, bins=50, kde=True, color='orange', stat='density', alpha=0.6)\n",
        "plt.title(\"Group 2 - Transformed Normal\")\n",
        "plt.xlabel(\"Normalized Value\")\n",
        "plt.ylabel(\"Density\")\n",
        "\n",
        "# Adjust layout for clarity\n",
        "plt.tight_layout()\n",
        "plt.show()\n"
      ],
      "metadata": {
        "id": "H6QvS6VkbsAv"
      },
      "execution_count": null,
      "outputs": []
    }
  ]
}