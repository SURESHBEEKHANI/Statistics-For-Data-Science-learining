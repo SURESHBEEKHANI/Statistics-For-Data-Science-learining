{
  "nbformat": 4,
  "nbformat_minor": 0,
  "metadata": {
    "colab": {
      "private_outputs": true,
      "provenance": [],
      "authorship_tag": "ABX9TyNMRk5BYsszubN5PAfCUgtA",
      "include_colab_link": true
    },
    "kernelspec": {
      "name": "python3",
      "display_name": "Python 3"
    },
    "language_info": {
      "name": "python"
    }
  },
  "cells": [
    {
      "cell_type": "markdown",
      "metadata": {
        "id": "view-in-github",
        "colab_type": "text"
      },
      "source": [
        "<a href=\"https://colab.research.google.com/github/SURESHBEEKHANI/Statistics-For-Data-Science-learining/blob/main/distributions_analysis.ipynb\" target=\"_parent\"><img src=\"https://colab.research.google.com/assets/colab-badge.svg\" alt=\"Open In Colab\"/></a>"
      ]
    },
    {
      "cell_type": "markdown",
      "source": [
        "# **Statistical Distributions**\n",
        "\n",
        "This notebook covers key statistical concepts:  \n",
        "- **Normal Distribution**: Common in natural phenomena, symmetric bell shape.  \n",
        "- **Log-Normal Distribution**: Positive values, right-skewed, used in financial modeling.  \n",
        "- **Power Law Distribution**: Heavy-tailed, explains rare events dominating outcomes.  \n",
        "- **Pareto Distribution**: \"80/20 rule,\" common in economics.  \n",
        "- **Central Limit Theorem (CLT)**: Explains why sampling distributions tend to be normal.\n",
        "\n",
        "### **Objective**\n",
        "Visualize and understand these distributions and the CLT using Python.\n"
      ],
      "metadata": {
        "id": "a4quT5XYAjcU"
      }
    },
    {
      "cell_type": "code",
      "execution_count": null,
      "metadata": {
        "id": "9WaYsxaA96zC"
      },
      "outputs": [],
      "source": []
    }
  ]
}